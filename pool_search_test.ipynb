{
 "cells": [
  {
   "cell_type": "code",
   "execution_count": 1,
   "metadata": {},
   "outputs": [],
   "source": [
    "import gurobipy as gp\n",
    "from gurobipy import GRB"
   ]
  },
  {
   "cell_type": "code",
   "execution_count": 2,
   "metadata": {},
   "outputs": [
    {
     "name": "stdout",
     "output_type": "stream",
     "text": [
      "Set parameter Username\n",
      "Academic license - for non-commercial use only - expires 2022-11-11\n"
     ]
    }
   ],
   "source": [
    "m = gp.Model()\n",
    "\n",
    "n = 20\n",
    "x = m.addVars(n, vtype=GRB.BINARY)\n",
    "y = m.addVars(n, vtype=GRB.BINARY)"
   ]
  },
  {
   "cell_type": "code",
   "execution_count": 3,
   "metadata": {},
   "outputs": [
    {
     "name": "stdout",
     "output_type": "stream",
     "text": [
      "Gurobi Optimizer version 9.5.0 build v9.5.0rc5 (win64)\n",
      "Thread count: 4 physical cores, 8 logical processors, using up to 8 threads\n",
      "Optimize a model with 21 rows, 40 columns and 60 nonzeros\n",
      "Model fingerprint: 0xd07978bb\n",
      "Variable types: 0 continuous, 40 integer (40 binary)\n",
      "Coefficient statistics:\n",
      "  Matrix range     [1e+00, 1e+00]\n",
      "  Objective range  [1e+00, 1e+00]\n",
      "  Bounds range     [1e+00, 1e+00]\n",
      "  RHS range        [0e+00, 0e+00]\n",
      "Found heuristic solution: objective -0.0000000\n",
      "Presolve removed 21 rows and 40 columns\n",
      "Presolve time: 0.00s\n",
      "Presolve: All rows and columns removed\n",
      "\n",
      "Explored 0 nodes (0 simplex iterations) in 0.01 seconds (0.00 work units)\n",
      "Thread count was 1 (of 8 available processors)\n",
      "\n",
      "Solution count 1: -0 \n",
      "No other solutions better than -0\n",
      "\n",
      "Optimal solution found (tolerance 1.00e-04)\n",
      "Best objective -0.000000000000e+00, best bound -0.000000000000e+00, gap 0.0000%\n"
     ]
    }
   ],
   "source": [
    "m.setObjective( gp.quicksum( x ), GRB.MAXIMIZE )\n",
    "m.addConstr( gp.quicksum( x ) == 0 )\n",
    "m.addConstrs( x[i] <= y[i] for i in range(n) )\n",
    "m.optimize()"
   ]
  },
  {
   "cell_type": "code",
   "execution_count": 4,
   "metadata": {},
   "outputs": [
    {
     "name": "stdout",
     "output_type": "stream",
     "text": [
      "Set parameter PoolSearchMode to value 2\n",
      "Set parameter PoolSolutions to value 100\n",
      "Gurobi Optimizer version 9.5.0 build v9.5.0rc5 (win64)\n",
      "Thread count: 4 physical cores, 8 logical processors, using up to 8 threads\n",
      "Optimize a model with 21 rows, 40 columns and 60 nonzeros\n",
      "Model fingerprint: 0xd07978bb\n",
      "Variable types: 0 continuous, 40 integer (40 binary)\n",
      "Coefficient statistics:\n",
      "  Matrix range     [1e+00, 1e+00]\n",
      "  Objective range  [1e+00, 1e+00]\n",
      "  Bounds range     [1e+00, 1e+00]\n",
      "  RHS range        [0e+00, 0e+00]\n",
      "\n",
      "Loaded MIP start from previous solve with objective -0\n",
      "\n",
      "Presolve removed 21 rows and 20 columns\n",
      "Presolve time: 0.00s\n",
      "Presolved: 0 rows, 20 columns, 0 nonzeros\n",
      "Variable types: 0 continuous, 20 integer (20 binary)\n",
      "\n",
      "Root relaxation: objective -0.000000e+00, 0 iterations, 0.00 seconds (0.00 work units)\n",
      "\n",
      "    Nodes    |    Current Node    |     Objective Bounds      |     Work\n",
      " Expl Unexpl |  Obj  Depth IntInf | Incumbent    BestBd   Gap | It/Node Time\n",
      "\n",
      "     0     0          -    0        -0.00000   -0.00000  0.00%     -    0s\n",
      "\n",
      "Optimal solution found at node 0 - now completing solution pool...\n",
      "\n",
      "    Nodes    |    Current Node    |      Pool Obj. Bounds     |     Work\n",
      "             |                    |   Worst                   |\n",
      " Expl Unexpl |  Obj  Depth IntInf | Incumbent    BestBd   Gap | It/Node Time\n",
      "\n",
      "     0     0          -    0               -   -0.00000      -     -    0s\n",
      "     0     0          -    0               -   -0.00000      -     -    0s\n",
      "     0     2          -    0               -   -0.00000      -     -    0s\n",
      "\n",
      "Explored 251 nodes (0 simplex iterations) in 0.03 seconds (0.00 work units)\n",
      "Thread count was 8 (of 8 available processors)\n",
      "\n",
      "Solution count 100: -0 -0 -0 ... -0\n",
      "No other solutions better than -0\n",
      "\n",
      "Optimal solution found (tolerance 1.00e-04)\n",
      "Best objective -0.000000000000e+00, best bound -0.000000000000e+00, gap 0.0000%\n"
     ]
    }
   ],
   "source": [
    "# Find the N best solutions\n",
    "N = 100\n",
    "m.Params.PoolSearchMode = 2 \n",
    "m.Params.PoolSolutions = N\n",
    "\n",
    "m.optimize()"
   ]
  },
  {
   "cell_type": "code",
   "execution_count": 5,
   "metadata": {},
   "outputs": [
    {
     "name": "stdout",
     "output_type": "stream",
     "text": [
      "Discarded solution information\n",
      "Gurobi Optimizer version 9.5.0 build v9.5.0rc5 (win64)\n",
      "Thread count: 4 physical cores, 8 logical processors, using up to 8 threads\n",
      "Optimize a model with 21 rows, 40 columns and 60 nonzeros\n",
      "Model fingerprint: 0x8bb33d35\n",
      "Variable types: 0 continuous, 40 integer (40 binary)\n",
      "Coefficient statistics:\n",
      "  Matrix range     [1e+00, 1e+00]\n",
      "  Objective range  [1e+00, 1e+00]\n",
      "  Bounds range     [1e+00, 1e+00]\n",
      "  RHS range        [0e+00, 0e+00]\n",
      "Found heuristic solution: objective -0.0000000\n",
      "Presolve removed 21 rows and 20 columns\n",
      "Presolve time: 0.00s\n",
      "Presolved: 0 rows, 20 columns, 0 nonzeros\n",
      "Variable types: 0 continuous, 20 integer (20 binary)\n",
      "\n",
      "Root relaxation: objective -0.000000e+00, 0 iterations, 0.00 seconds (0.00 work units)\n",
      "\n",
      "    Nodes    |    Current Node    |     Objective Bounds      |     Work\n",
      " Expl Unexpl |  Obj  Depth IntInf | Incumbent    BestBd   Gap | It/Node Time\n",
      "\n",
      "     0     0          -    0        -0.00000   -0.00000  0.00%     -    0s\n",
      "\n",
      "Optimal solution found at node 0 - now completing solution pool...\n",
      "\n",
      "    Nodes    |    Current Node    |      Pool Obj. Bounds     |     Work\n",
      "             |                    |   Worst                   |\n",
      " Expl Unexpl |  Obj  Depth IntInf | Incumbent    BestBd   Gap | It/Node Time\n",
      "\n",
      "     0     0          -    0               -   -0.00000      -     -    0s\n",
      "     0     0          -    0               -   -0.00000      -     -    0s\n",
      "     0     2          -    0               -   -0.00000      -     -    0s\n",
      " 353335  1042          -   27               -   -0.00000      -   0.0    5s\n",
      " 673655   884          -   29               -   -0.00000      -   0.0   10s\n",
      " 993975   632     cutoff   31               -   -0.00000      -   0.0   15s\n",
      " 1314295   722          -   28               -   -0.00000      -   0.0   20s\n",
      " 1666647   464     cutoff   31               -   -0.00000      -   0.0   25s\n",
      " 1986967   456     cutoff   31               -   -0.00000      -   0.0   30s\n",
      "\n",
      "Explored 2110847 nodes (0 simplex iterations) in 31.94 seconds (0.69 work units)\n",
      "Thread count was 8 (of 8 available processors)\n",
      "\n",
      "Solution count 1: -0 \n",
      "No other solutions better than -1e+100\n",
      "\n",
      "Optimal solution found (tolerance 1.00e-04)\n",
      "Best objective -0.000000000000e+00, best bound -0.000000000000e+00, gap 0.0000%\n"
     ]
    }
   ],
   "source": [
    "m.reset()\n",
    "\n",
    "# ignore (x,y) solutions that only differ in y\n",
    "for i in range(n):\n",
    "    y[i].PoolIgnore = 1\n",
    "\n",
    "m.optimize()"
   ]
  },
  {
   "cell_type": "code",
   "execution_count": null,
   "metadata": {},
   "outputs": [],
   "source": []
  }
 ],
 "metadata": {
  "kernelspec": {
   "display_name": "Python 3",
   "language": "python",
   "name": "python3"
  },
  "language_info": {
   "codemirror_mode": {
    "name": "ipython",
    "version": 3
   },
   "file_extension": ".py",
   "mimetype": "text/x-python",
   "name": "python",
   "nbconvert_exporter": "python",
   "pygments_lexer": "ipython3",
   "version": "3.7.10"
  }
 },
 "nbformat": 4,
 "nbformat_minor": 4
}
